{
 "cells": [
  {
   "cell_type": "code",
   "execution_count": 1,
   "metadata": {},
   "outputs": [],
   "source": [
    "from torch import *\n",
    "import torch.nn as nn\n",
    "from torch.nn import functional as F\n",
    "import torch.optim as optim\n",
    "from torchvision import datasets, transforms, models\n",
    "import cv2\n",
    "from torch.autograd import Variable\n",
    "from PIL import Image\n",
    "\n",
    "# my defined module\n",
    "from fr_utils import image_loader, EmbeddingNet, TripletLoss, BinaryLoss\n",
    "from fr_utils import img_encoding, verification, recognition"
   ]
  },
  {
   "cell_type": "code",
   "execution_count": 2,
   "metadata": {},
   "outputs": [],
   "source": [
    "x = 'dataset/bertrand.jpg'\n",
    "y = 'dataset/bertrand_2.jpg'\n",
    "z = 'dataset/train/arnaud/arnaud.jpg'\n",
    "j = 'dataset/danielle.jpg'"
   ]
  },
  {
   "cell_type": "code",
   "execution_count": 3,
   "metadata": {},
   "outputs": [],
   "source": [
    "imsize = 96\n",
    "transform = transforms.Compose([transforms.Resize(96),\n",
    "#                                 transforms.ToPILImage(),\n",
    "                                transforms.ToTensor(),\n",
    "                                transforms.Normalize([0.485, 0.456, 0.406],\n",
    "                                                     [0.229, 0.224, 0.225])])\n"
   ]
  },
  {
   "cell_type": "code",
   "execution_count": 4,
   "metadata": {},
   "outputs": [
    {
     "data": {
      "image/png": "[encoded data removed]",
      "text/plain": [
       "<PIL.JpegImagePlugin.JpegImageFile image mode=RGB size=96x96 at 0x7FB764764898>"
      ]
     },
     "execution_count": 4,
     "metadata": {},
     "output_type": "execute_result"
    }
   ],
   "source": [
    "img = Image.open(y); img"
   ]
  },
  {
   "cell_type": "code",
   "execution_count": 5,
   "metadata": {},
   "outputs": [],
   "source": [
    "anchor, positive, negative = image_loader(x, transform=transform), image_loader(y, transform), image_loader(z, transform)"
   ]
  },
  {
   "cell_type": "code",
   "execution_count": 6,
   "metadata": {},
   "outputs": [
    {
     "data": {
      "text/plain": [
       "torch.Size([1, 3, 96, 96])"
      ]
     },
     "execution_count": 6,
     "metadata": {},
     "output_type": "execute_result"
    }
   ],
   "source": [
    "negative.shape"
   ]
  },
  {
   "cell_type": "code",
   "execution_count": 7,
   "metadata": {},
   "outputs": [
    {
     "name": "stdout",
     "output_type": "stream",
     "text": [
      "torch.Size([1, 3, 96, 96])\n"
     ]
    },
    {
     "data": {
      "text/plain": [
       "576"
      ]
     },
     "execution_count": 7,
     "metadata": {},
     "output_type": "execute_result"
    }
   ],
   "source": [
    "print(anchor.size())\n",
    "in_layer = anchor.shape[1] * anchor.shape[2] * 2\n",
    "in_layer"
   ]
  },
  {
   "cell_type": "code",
   "execution_count": 8,
   "metadata": {},
   "outputs": [
    {
     "data": {
      "text/plain": [
       "<bound method Module.parameters of EmbeddingNet(\n",
       "  (convnet): Sequential(\n",
       "    (0): Conv2d(3, 32, kernel_size=(3, 3), stride=(1, 1))\n",
       "    (1): PReLU(num_parameters=1)\n",
       "    (2): MaxPool2d(kernel_size=2, stride=2, padding=0, dilation=1, ceil_mode=False)\n",
       "    (3): Conv2d(32, 576, kernel_size=(4, 4), stride=(1, 1))\n",
       "    (4): PReLU(num_parameters=1)\n",
       "    (5): MaxPool2d(kernel_size=2, stride=2, padding=0, dilation=1, ceil_mode=False)\n",
       "  )\n",
       "  (fc): Sequential(\n",
       "    (0): Linear(in_features=576, out_features=512, bias=True)\n",
       "    (1): PReLU(num_parameters=1)\n",
       "    (2): Linear(in_features=512, out_features=256, bias=True)\n",
       "    (3): PReLU(num_parameters=1)\n",
       "    (4): Linear(in_features=256, out_features=128, bias=True)\n",
       "  )\n",
       ")>"
      ]
     },
     "execution_count": 8,
     "metadata": {},
     "output_type": "execute_result"
    }
   ],
   "source": [
    "embed = EmbeddingNet(); embed.parameters"
   ]
  },
  {
   "cell_type": "code",
   "execution_count": 9,
   "metadata": {},
   "outputs": [],
   "source": [
    "embedded_x, embedded_y, embedded_z = embed(anchor), embed(positive), embed(negative) "
   ]
  },
  {
   "cell_type": "code",
   "execution_count": 10,
   "metadata": {},
   "outputs": [
    {
     "data": {
      "text/plain": [
       "tensor([[-0.0514,  0.0111,  0.0220,  ...,  0.0438, -0.0251, -0.0310],\n",
       "        [-0.0553,  0.0359,  0.0267,  ...,  0.0572, -0.0853, -0.0434],\n",
       "        [-0.0566,  0.0320,  0.0488,  ...,  0.0465, -0.0591,  0.0051],\n",
       "        ...,\n",
       "        [-0.0616,  0.0589, -0.0098,  ...,  0.0329, -0.0802, -0.0809],\n",
       "        [-0.0886,  0.1064,  0.0696,  ..., -0.0130, -0.0219, -0.0434],\n",
       "        [-0.0292,  0.0402,  0.0422,  ...,  0.0641, -0.0061, -0.0439]],\n",
       "       grad_fn=<AddmmBackward>)"
      ]
     },
     "execution_count": 10,
     "metadata": {},
     "output_type": "execute_result"
    }
   ],
   "source": [
    "embedded_x"
   ]
  },
  {
   "cell_type": "code",
   "execution_count": 11,
   "metadata": {},
   "outputs": [
    {
     "ename": "TypeError",
     "evalue": "__init__() missing 3 required positional arguments: 'x', 'y', and 'z'",
     "output_type": "error",
     "traceback": [
      "\u001b[0;31m----------------------------------------------------------------------\u001b[0m",
      "\u001b[0;31mTypeError\u001b[0m                            Traceback (most recent call last)",
      "\u001b[0;32m<ipython-input-11-c9d599c1b7a3>\u001b[0m in \u001b[0;36m<module>\u001b[0;34m()\u001b[0m\n\u001b[0;32m----> 1\u001b[0;31m \u001b[0mloss\u001b[0m \u001b[0;34m=\u001b[0m \u001b[0mTripletLoss\u001b[0m\u001b[0;34m(\u001b[0m\u001b[0;34m)\u001b[0m\u001b[0;34m\u001b[0m\u001b[0m\n\u001b[0m\u001b[1;32m      2\u001b[0m \u001b[0ml\u001b[0m \u001b[0;34m=\u001b[0m \u001b[0mloss\u001b[0m\u001b[0;34m.\u001b[0m\u001b[0mforward\u001b[0m\u001b[0;34m(\u001b[0m\u001b[0;36m1.0\u001b[0m\u001b[0;34m,\u001b[0m \u001b[0membedded_x\u001b[0m\u001b[0;34m,\u001b[0m \u001b[0membedded_y\u001b[0m\u001b[0;34m,\u001b[0m \u001b[0membedded_z\u001b[0m\u001b[0;34m)\u001b[0m\u001b[0;34m;\u001b[0m \u001b[0ml\u001b[0m\u001b[0;34m\u001b[0m\u001b[0m\n",
      "\u001b[0;31mTypeError\u001b[0m: __init__() missing 3 required positional arguments: 'x', 'y', and 'z'"
     ]
    }
   ],
   "source": [
    "loss = TripletLoss()\n",
    "l = loss.forward(embedded_x, embedded_y, embedded_z); l"
   ]
  },
  {
   "cell_type": "code",
   "execution_count": null,
   "metadata": {},
   "outputs": [],
   "source": [
    "distance_positive = F.pairwise_distance(embedded_x, embedded_y).pow(2).sum(); distance_positive"
   ]
  },
  {
   "cell_type": "code",
   "execution_count": null,
   "metadata": {
    "scrolled": true
   },
   "outputs": [],
   "source": [
    "database = {}\n",
    "database[\"danielle\"] = img_encoding(\"dataset/danielle.jpg\", transform, embed)\n",
    "database[\"younes\"] = img_encoding(\"dataset/younes.jpg\", transform, embed)\n",
    "database[\"tian\"] = img_encoding(\"dataset/tian.jpg\", transform, embed)\n",
    "database[\"andrew\"] = img_encoding(\"dataset/andrew.jpg\", transform, embed)\n",
    "database[\"kian\"] = img_encoding(\"dataset/kian.jpg\", transform, embed)\n",
    "database[\"dan\"] = img_encoding(\"dataset/dan.jpg\", transform, embed)\n",
    "database[\"sebastiano\"] = img_encoding(\"dataset/sebastiano.jpg\", transform, embed)\n",
    "database[\"bertrand\"] = img_encoding(\"dataset/bertrand.jpg\", transform, embed)\n",
    "database[\"kevin\"] = img_encoding(\"dataset/kevin.jpg\", transform, embed)\n",
    "database[\"felix\"] = img_encoding(\"dataset/felix.jpg\", transform, embed)\n",
    "database[\"benoit\"] = img_encoding(\"dataset/benoit.jpg\", transform, embed)\n",
    "database[\"arnaud\"] = img_encoding(\"dataset/arnaud.jpg\", transform, embed)"
   ]
  },
  {
   "cell_type": "code",
   "execution_count": null,
   "metadata": {},
   "outputs": [],
   "source": [
    "# verification(image_path, identity, db, embednet, transform=None)\n",
    "\n",
    "verification(\"dataset/dan_2.jpg\", 'dan', database, embed, transform=transform)"
   ]
  },
  {
   "cell_type": "code",
   "execution_count": null,
   "metadata": {},
   "outputs": [],
   "source": [
    "recognition(\"dataset/dan_2.jpg\", 'dan', database, embed, transform=transform, threshold=1.8)"
   ]
  },
  {
   "cell_type": "code",
   "execution_count": null,
   "metadata": {},
   "outputs": [],
   "source": [
    "tri = {'danielle': [database['danielle'], database['danielle'], database['tian']],\n",
    "       'tian': [database['tian'], database['tian'], database['danielle']],\n",
    "       'bertrand': [database[\"bertrand\"], database[\"bertrand\"], database[\"arnaud\"]]}"
   ]
  },
  {
   "cell_type": "code",
   "execution_count": null,
   "metadata": {},
   "outputs": [],
   "source": [
    "embed = EmbeddingNet()\n",
    "criterion = TripletLoss\n",
    "optimizer = optim.Adam(embed.parameters(), lr=0.003)"
   ]
  },
  {
   "cell_type": "code",
   "execution_count": null,
   "metadata": {},
   "outputs": [],
   "source": [
    "a = embed(anchor); anchor"
   ]
  },
  {
   "cell_type": "code",
   "execution_count": null,
   "metadata": {},
   "outputs": [],
   "source": [
    "epochs = 2\n",
    "train_losses = []\n",
    "for e in range(epochs):\n",
    "    running_loss = 0\n",
    "    for name, enc in tri.items():\n",
    "        enc_a, enc_p, enc_n = tri[name][0], tri[name][1], tri[name][2]\n",
    "        \n",
    "        optimizer.zero_grad()\n",
    "        \n",
    "        loss = criterion(1.0, enc_a, enc_p, enc_n)\n",
    "        loss.backward()\n",
    "        optimizer = optimizer.step()\n",
    "        \n",
    "        running_loss += loss.item()\n",
    "        print(f'Epoch: {e}/{epochs}... Loss: {loss.item()}')"
   ]
  },
  {
   "cell_type": "code",
   "execution_count": null,
   "metadata": {},
   "outputs": [],
   "source": [
    "# import h5py"
   ]
  },
  {
   "cell_type": "code",
   "execution_count": null,
   "metadata": {},
   "outputs": [],
   "source": [
    "# train_dataset = h5py.File('datasets/train_happy.h5', \"r\")"
   ]
  },
  {
   "cell_type": "code",
   "execution_count": null,
   "metadata": {},
   "outputs": [],
   "source": [
    "# train_dataset[\"train_set_x\"].shape"
   ]
  },
  {
   "cell_type": "code",
   "execution_count": null,
   "metadata": {},
   "outputs": [],
   "source": [
    "# train_dataset[\"train_set_y\"]"
   ]
  },
  {
   "cell_type": "code",
   "execution_count": null,
   "metadata": {},
   "outputs": [],
   "source": [
    "W = 0.5\n",
    "b = 1"
   ]
  },
  {
   "cell_type": "code",
   "execution_count": null,
   "metadata": {},
   "outputs": [],
   "source": [
    "y_hat = BinaryLoss(embedded_x, embedded_y, W, b)"
   ]
  },
  {
   "cell_type": "code",
   "execution_count": null,
   "metadata": {},
   "outputs": [],
   "source": [
    "y_hat.sum()"
   ]
  },
  {
   "cell_type": "code",
   "execution_count": null,
   "metadata": {},
   "outputs": [],
   "source": [
    "dist_xy = abs((embedded_x - embedded_z)).pow(2).sum(1)/abs(embedded_x + embedded_z).sum(1)"
   ]
  },
  {
   "cell_type": "code",
   "execution_count": null,
   "metadata": {},
   "outputs": [],
   "source": [
    "dist_xy.mean()"
   ]
  },
  {
   "cell_type": "code",
   "execution_count": null,
   "metadata": {},
   "outputs": [],
   "source": [
    "binary = W * dist_xy + b\n",
    "y_hat = F.log_softmax(binary)"
   ]
  },
  {
   "cell_type": "code",
   "execution_count": null,
   "metadata": {},
   "outputs": [],
   "source": [
    "binary.mean()"
   ]
  },
  {
   "cell_type": "code",
   "execution_count": null,
   "metadata": {},
   "outputs": [],
   "source": [
    "y_hat.mean()"
   ]
  },
  {
   "cell_type": "code",
   "execution_count": null,
   "metadata": {},
   "outputs": [],
   "source": []
  }
 ],
 "metadata": {
  "kernelspec": {
   "display_name": "Python 3",
   "language": "python",
   "name": "python3"
  },
  "language_info": {
   "codemirror_mode": {
    "name": "ipython",
    "version": 3
   },
   "file_extension": ".py",
   "mimetype": "text/x-python",
   "name": "python",
   "nbconvert_exporter": "python",
   "pygments_lexer": "ipython3",
   "version": "3.6.5"
  }
 },
 "nbformat": 4,
 "nbformat_minor": 2
}
